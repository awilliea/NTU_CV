{
 "cells": [
  {
   "cell_type": "code",
   "execution_count": 1,
   "metadata": {},
   "outputs": [],
   "source": [
    "# origin image\n",
    "import numpy as np\n",
    "from PIL import Image\n",
    "img = Image.open('lena.bmp')\n",
    "img_array = np.array(img)\n",
    "Image.fromarray(img_array)\n",
    "Image.fromarray(img_array).save('lena.jpg')"
   ]
  },
  {
   "cell_type": "code",
   "execution_count": 2,
   "metadata": {},
   "outputs": [],
   "source": [
    "# 用來顯示圖片的函數\n",
    "from IPython.display import display\n",
    "def show(img_array):\n",
    "    display(Image.fromarray(img_array))"
   ]
  },
  {
   "cell_type": "code",
   "execution_count": 89,
   "metadata": {},
   "outputs": [],
   "source": [
    "img_b_array = np.uint8(np.copy(img_array)>=128)*255\n",
    "Image.fromarray(img_b_array).save('lena_b.jpg')"
   ]
  },
  {
   "cell_type": "code",
   "execution_count": 15,
   "metadata": {},
   "outputs": [],
   "source": [
    "def down_sample(img_array,row,col):\n",
    "    length = img_array.shape[0] \n",
    "    img_d_array = np.zeros((int(length/row),int(length/col)))\n",
    "    for i in range(0,length,row):\n",
    "        for j in range(0,length,col):\n",
    "            img_d_array[int(i/row)][int(j/col)] = img_array[i][j]\n",
    "    return img_d_array"
   ]
  },
  {
   "cell_type": "code",
   "execution_count": 46,
   "metadata": {},
   "outputs": [],
   "source": [
    "img_d_array = np.uint8(down_sample(img_b_array,8,8))"
   ]
  },
  {
   "cell_type": "code",
   "execution_count": 47,
   "metadata": {},
   "outputs": [
    {
     "data": {
      "image/png": "[encoded data removed]",
      "text/plain": [
       "<PIL.Image.Image image mode=L size=64x64 at 0x117BBE8D0>"
      ]
     },
     "metadata": {},
     "output_type": "display_data"
    }
   ],
   "source": [
    "show(img_d_array)"
   ]
  },
  {
   "cell_type": "code",
   "execution_count": 48,
   "metadata": {},
   "outputs": [],
   "source": [
    "def h(b,c,d,e):\n",
    "    if(b != c):\n",
    "        return 's'\n",
    "    elif(b == c and (d!=b or e!= c)):\n",
    "        return 'q'\n",
    "    else:\n",
    "        return 'r'"
   ]
  },
  {
   "cell_type": "code",
   "execution_count": 71,
   "metadata": {},
   "outputs": [],
   "source": [
    "def Yokoi(img_array):\n",
    "    length = img_array.shape[0]\n",
    "    img_temp = np.zeros((length+2,length+2))\n",
    "    img_temp[1:length+1,1:length+1] += img_array\n",
    "    \n",
    "    img_yok = np.zeros((length,length))\n",
    "    dic = {'q':0,'r':0,'s':0}\n",
    "    \n",
    "    for i in range(1,length+1,1):\n",
    "        for j in range(1,length+1,1):\n",
    "            if(img_temp[i][j] != 0):\n",
    "                dic[h(img_temp[i][j],img_temp[i+1][j],img_temp[i+1][j-1],img_temp[i][j-1])] += 1\n",
    "                dic[h(img_temp[i][j],img_temp[i][j-1],img_temp[i-1][j-1],img_temp[i-1][j])] += 1\n",
    "                dic[h(img_temp[i][j],img_temp[i-1][j],img_temp[i-1][j+1],img_temp[i][j+1])] += 1\n",
    "                dic[h(img_temp[i][j],img_temp[i][j+1],img_temp[i+1][j+1],img_temp[i+1][j])] += 1\n",
    "\n",
    "                if(dic['r'] == 4):\n",
    "                    img_yok[i-1][j-1] = 5\n",
    "                else:\n",
    "                    img_yok[i-1][j-1] = dic['q']\n",
    "\n",
    "                for key in dic.keys():\n",
    "                    dic[key] = 0\n",
    "    return img_yok\n",
    "    "
   ]
  },
  {
   "cell_type": "code",
   "execution_count": 72,
   "metadata": {},
   "outputs": [],
   "source": [
    "img_yok = np.uint8(Yokoi(img_d_array))"
   ]
  },
  {
   "cell_type": "code",
   "execution_count": 73,
   "metadata": {},
   "outputs": [
    {
     "data": {
      "text/plain": [
       "array([[1, 1, 1, ..., 0, 0, 0],\n",
       "       [1, 5, 5, ..., 0, 0, 0],\n",
       "       [1, 5, 5, ..., 1, 0, 0],\n",
       "       ...,\n",
       "       [0, 0, 1, ..., 0, 0, 0],\n",
       "       [0, 0, 1, ..., 0, 0, 0],\n",
       "       [0, 0, 1, ..., 0, 0, 0]], dtype=uint8)"
      ]
     },
     "execution_count": 73,
     "metadata": {},
     "output_type": "execute_result"
    }
   ],
   "source": [
    "img_yok"
   ]
  },
  {
   "cell_type": "code",
   "execution_count": 93,
   "metadata": {},
   "outputs": [],
   "source": [
    "def output_Yokoi(img_yok):\n",
    "    with open('Output_ver1.txt','w') as file:\n",
    "        length = img_yok.shape[0]\n",
    "        for i in range(length):\n",
    "            for j in range(length):\n",
    "                if(img_yok[i][j] == 0):\n",
    "                    file.write(\"  \") \n",
    "                else:\n",
    "                    file.write(str(img_yok[i][j])+\" \")\n",
    "            file.write('\\n')  \n",
    "    with open('Output_ver2.txt','w') as file:\n",
    "        length = img_yok.shape[0]\n",
    "        for i in range(length):\n",
    "            for j in range(length):\n",
    "                if(img_yok[i][j] == 0):\n",
    "                    file.write(\" \") \n",
    "                else:\n",
    "                    file.write(str(img_yok[i][j]))\n",
    "            file.write('\\n')  "
   ]
  },
  {
   "cell_type": "code",
   "execution_count": 94,
   "metadata": {},
   "outputs": [],
   "source": [
    "output_Yokoi(img_yok)"
   ]
  },
  {
   "cell_type": "code",
   "execution_count": null,
   "metadata": {},
   "outputs": [],
   "source": []
  }
 ],
 "metadata": {
  "kernelspec": {
   "display_name": "Python 3",
   "language": "python",
   "name": "python3"
  },
  "language_info": {
   "codemirror_mode": {
    "name": "ipython",
    "version": 3
   },
   "file_extension": ".py",
   "mimetype": "text/x-python",
   "name": "python",
   "nbconvert_exporter": "python",
   "pygments_lexer": "ipython3",
   "version": "3.6.5"
  }
 },
 "nbformat": 4,
 "nbformat_minor": 2
}
