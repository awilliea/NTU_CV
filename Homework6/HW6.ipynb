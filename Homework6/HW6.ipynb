{
 "cells": [
  {
   "cell_type": "code",
   "execution_count": 1,
   "metadata": {},
   "outputs": [],
   "source": [
    "# origin image\n",
    "import numpy as np\n",
    "from PIL import Image\n",
    "img = Image.open('lena.bmp')\n",
    "img_array = np.array(img)\n",
    "Image.fromarray(img_array)\n",
    "Image.fromarray(img_array).save('lena.jpg')"
   ]
  },
  {
   "cell_type": "code",
   "execution_count": 2,
   "metadata": {},
   "outputs": [],
   "source": [
    "# 用來顯示圖片的函數\n",
    "from IPython.display import display\n",
    "def show(img_array):\n",
    "    display(Image.fromarray(img_array))"
   ]
  },
  {
   "cell_type": "code",
   "execution_count": 9,
   "metadata": {},
   "outputs": [],
   "source": [
    "img_b_array = np.uint8(np.copy(img_array)>=128)*255"
   ]
  },
  {
   "cell_type": "code",
   "execution_count": 15,
   "metadata": {},
   "outputs": [],
   "source": [
    "def down_sample(img_array,row,col):\n",
    "    length = img_array.shape[0] \n",
    "    img_d_array = np.zeros((int(length/row),int(length/col)))\n",
    "    for i in range(0,length,row):\n",
    "        for j in range(0,length,col):\n",
    "            img_d_array[int(i/row)][int(j/col)] = img_array[i][j]\n",
    "    return img_d_array"
   ]
  },
  {
   "cell_type": "code",
   "execution_count": 46,
   "metadata": {},
   "outputs": [],
   "source": [
    "img_d_array = np.uint8(down_sample(img_b_array,8,8))"
   ]
  },
  {
   "cell_type": "code",
   "execution_count": 47,
   "metadata": {},
   "outputs": [
    {
     "data": {
      "image/png": "[encoded data removed]",
      "text/plain": [
       "<PIL.Image.Image image mode=L size=64x64 at 0x117BBE8D0>"
      ]
     },
     "metadata": {},
     "output_type": "display_data"
    }
   ],
   "source": [
    "show(img_d_array)"
   ]
  },
  {
   "cell_type": "code",
   "execution_count": 48,
   "metadata": {},
   "outputs": [],
   "source": [
    "def h(b,c,d,e):\n",
    "    if(b != c):\n",
    "        return 's'\n",
    "    elif(b == c and (d!=b or e!= c)):\n",
    "        return 'q'\n",
    "    else:\n",
    "        return 'r'"
   ]
  },
  {
   "cell_type": "code",
   "execution_count": 71,
   "metadata": {},
   "outputs": [],
   "source": [
    "def Yokoi(img_array):\n",
    "    length = img_array.shape[0]\n",
    "    img_temp = np.zeros((length+2,length+2))\n",
    "    img_temp[1:length+1,1:length+1] += img_array\n",
    "    \n",
    "    img_yok = np.zeros((length,length))\n",
    "    dic = {'q':0,'r':0,'s':0}\n",
    "    \n",
    "    for i in range(1,length+1,1):\n",
    "        for j in range(1,length+1,1):\n",
    "            if(img_temp[i][j] != 0):\n",
    "                dic[h(img_temp[i][j],img_temp[i+1][j],img_temp[i+1][j-1],img_temp[i][j-1])] += 1\n",
    "                dic[h(img_temp[i][j],img_temp[i][j-1],img_temp[i-1][j-1],img_temp[i-1][j])] += 1\n",
    "                dic[h(img_temp[i][j],img_temp[i-1][j],img_temp[i-1][j+1],img_temp[i][j+1])] += 1\n",
    "                dic[h(img_temp[i][j],img_temp[i][j+1],img_temp[i+1][j+1],img_temp[i+1][j])] += 1\n",
    "\n",
    "                if(dic['r'] == 4):\n",
    "                    img_yok[i-1][j-1] = 5\n",
    "                else:\n",
    "                    img_yok[i-1][j-1] = dic['q']\n",
    "\n",
    "                for key in dic.keys():\n",
    "                    dic[key] = 0\n",
    "    return img_yok\n",
    "    "
   ]
  },
  {
   "cell_type": "code",
   "execution_count": 72,
   "metadata": {},
   "outputs": [],
   "source": [
    "img_yok = np.uint8(Yokoi(img_d_array))"
   ]
  },
  {
   "cell_type": "code",
   "execution_count": 73,
   "metadata": {},
   "outputs": [
    {
     "data": {
      "text/plain": [
       "array([[1, 1, 1, ..., 0, 0, 0],\n",
       "       [1, 5, 5, ..., 0, 0, 0],\n",
       "       [1, 5, 5, ..., 1, 0, 0],\n",
       "       ...,\n",
       "       [0, 0, 1, ..., 0, 0, 0],\n",
       "       [0, 0, 1, ..., 0, 0, 0],\n",
       "       [0, 0, 1, ..., 0, 0, 0]], dtype=uint8)"
      ]
     },
     "execution_count": 73,
     "metadata": {},
     "output_type": "execute_result"
    }
   ],
   "source": [
    "img_yok"
   ]
  },
  {
   "cell_type": "code",
   "execution_count": 74,
   "metadata": {},
   "outputs": [],
   "source": [
    "def display_Yokoi(img_array):\n",
    "    length = img_array.shape[0]\n",
    "    for i in range(length):\n",
    "        for j in range(length):\n",
    "            if(img_array[i][j] == 0):\n",
    "                print(\" \",end = '')\n",
    "            else:\n",
    "                print(img_array[i][j],end = '')\n",
    "        print('')"
   ]
  },
  {
   "cell_type": "code",
   "execution_count": 75,
   "metadata": {
    "scrolled": false
   },
   "outputs": [
    {
     "name": "stdout",
     "output_type": "stream",
     "text": [
      "11111111        12111111111122322221     111111111111           \n",
      "15555551         115555555511 2 11  11   1155555555511          \n",
      "15555551        1 2115555112  21112221    155555555551      21  \n",
      "15555551        1 2 155112 22221511       1555555555511     1   \n",
      "15555551         22 2112 22    121        15555555555511        \n",
      "15555551         1  2  21 2     1   1     15555555555551        \n",
      "15555551           12 1  121111    1321   155555555555511       \n",
      "15111551           1322 1155551111        155555555555551       \n",
      "111 1551            1  121555555511       155555555555511       \n",
      "11  1551                 21155555511      15511155555511        \n",
      "21  1551                 2 15555555111    1551 11555511         \n",
      "1   1551                 2 155555555511   1551  115551         1\n",
      "    1551               1121155555555551   1551   15511        12\n",
      "    1551               15555555555555511  1551   1111        111\n",
      "    1551        1     2221155555555555511 1151    11        1151\n",
      "    1551        2    22 1 1555555555555511 151  11111       1551\n",
      "    1551        2    1   11555555555555551 151 115551      11551\n",
      "    1551        2       11555555555555555111511155511     115551\n",
      "    1551       12      11555555555555555555555555551      155551\n",
      "    1551       11     221555555555555555555555555112     1155551\n",
      "    1551       111   22 15555555555555555555555551 1     1555551\n",
      "    1551       1511  1 125112111112111555555555111      11555551\n",
      "    1551       15521  1 121 1 11  1  15555555111        15555551\n",
      "    1551       1151  132 2          1155555111         115555551\n",
      "    1551        151    322         115555111  121      155555551\n",
      "    1551        1221   2           1555551   131      1155555551\n",
      "    1551         2     1          115555511   1       1155555551\n",
      "    1551         2               1155555551          1 155555551\n",
      "    1551         2              11555555551          21155555551\n",
      "    1551         1             115555555551          15555555551\n",
      "    1551          1           11511115555521  1     115555555551\n",
      "    1551        1 1          11111  1155511   2     155555555551\n",
      "    1551       131           111     15111    2     155555555551\n",
      "    1551      121          1121   1  111  1   2    1155555555551\n",
      "    1551      11           111 1  221 11  1   2    1555555555551\n",
      "    1551    12       1     21 121  11 1111    2    1555555555551\n",
      "    1551     1      12    22  151111111551    2   11555555555551\n",
      "    1551   1              2   1555551115511   1   15555555555551\n",
      "    1551   2             22  12555551 15551    1  15555555555551\n",
      "    1551   1             1    1555511 11511    2 115555555555551\n",
      "    1551               21     155551 1 151     2 155555555555551\n",
      "    1551               2      15555112 151     2 155555555555551\n",
      "    1551         1   1 1     1155555511111     2 155555555555551\n",
      "    1551         2  22       111511111212      21155555555555551\n",
      "    1551         1 12          151    2 1      15555555111555551\n",
      "    1551                       1111  121       155555551 1555551\n",
      "    1551                        11111111       155555551 1555551\n",
      "    1551                         115551        155555551 1555511\n",
      "    1551                          15551        211111111 155511 \n",
      "    11521      1   12          122155511       2     11 115511  \n",
      "1    151       1    1            155555111     2111     15511   \n",
      "22   1511          1             15555555111   155111   1511    \n",
      " 22  1511          1             15555555551   155551  1151     \n",
      "  2  151              1        11155555555511  155511  1511     \n",
      "  2  1521             1        155555555555511 15551 12151      \n",
      "  2  151           121         155555555555551 155511 1551      \n",
      "  2  1511                      155555555555551 115551 1511      \n",
      "  21 1511            11        155555555555551  111111151       \n",
      "  11 151                      11555555555555511    111511       \n",
      "  11 151                      15555555555555551      151        \n",
      "  11 151                     115555555555555551      211        \n",
      "  11 151                     1155555555555555511     1          \n",
      "  11 151                      155555555555555551                \n",
      "  11 111                     1211111111111111111                \n"
     ]
    }
   ],
   "source": [
    "display_Yokoi(img_yok)"
   ]
  },
  {
   "cell_type": "code",
   "execution_count": 80,
   "metadata": {},
   "outputs": [],
   "source": [
    "with open('Output.txt','w') as file:\n",
    "    length = img_yok.shape[0]\n",
    "    for i in range(length):\n",
    "        for j in range(length):\n",
    "            if(img_yok[i][j] == 0):\n",
    "                file.write(\" \") \n",
    "            else:\n",
    "                file.write(str(img_yok[i][j]))\n",
    "        file.write('\\n')        "
   ]
  },
  {
   "cell_type": "code",
   "execution_count": 81,
   "metadata": {},
   "outputs": [
    {
     "data": {
      "text/plain": [
       "(64, 64)"
      ]
     },
     "execution_count": 81,
     "metadata": {},
     "output_type": "execute_result"
    }
   ],
   "source": [
    "img_yok.shape"
   ]
  },
  {
   "cell_type": "code",
   "execution_count": null,
   "metadata": {},
   "outputs": [],
   "source": []
  }
 ],
 "metadata": {
  "kernelspec": {
   "display_name": "Python 3",
   "language": "python",
   "name": "python3"
  },
  "language_info": {
   "codemirror_mode": {
    "name": "ipython",
    "version": 3
   },
   "file_extension": ".py",
   "mimetype": "text/x-python",
   "name": "python",
   "nbconvert_exporter": "python",
   "pygments_lexer": "ipython3",
   "version": "3.6.5"
  }
 },
 "nbformat": 4,
 "nbformat_minor": 2
}
