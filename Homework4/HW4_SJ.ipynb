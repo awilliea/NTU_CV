{
 "cells": [
  {
   "cell_type": "code",
   "execution_count": 1,
   "metadata": {},
   "outputs": [],
   "source": [
    "import cv2\n",
    "from matplotlib import pyplot as plt\n",
    "import numpy as np"
   ]
  },
  {
   "cell_type": "code",
   "execution_count": 2,
   "metadata": {},
   "outputs": [],
   "source": [
    "img = cv2.imread('lena.bmp')"
   ]
  },
  {
   "cell_type": "code",
   "execution_count": 3,
   "metadata": {},
   "outputs": [],
   "source": [
    "binary = img.copy()"
   ]
  },
  {
   "cell_type": "markdown",
   "metadata": {},
   "source": [
    "* Convert lena into binary image\n",
    "* Find out which position (rows and columns) contains value==255"
   ]
  },
  {
   "cell_type": "code",
   "execution_count": 5,
   "metadata": {},
   "outputs": [],
   "source": [
    "#use bin_pos to store the position of the white points\n",
    "bin_pos=np.zeros((512, 512))  \n",
    "for i in range(binary.shape[0]):\n",
    "    for j in range(binary.shape[1]):\n",
    "        if binary[i,j,1]>=128:\n",
    "            binary[i,j]=255\n",
    "            bin_pos[i,j]=1"
   ]
  },
  {
   "cell_type": "code",
   "execution_count": 5,
   "metadata": {},
   "outputs": [
    {
     "data": {
      "text/plain": [
       "<matplotlib.image.AxesImage at 0x2aa43cfd668>"
      ]
     },
     "execution_count": 5,
     "metadata": {},
     "output_type": "execute_result"
    },
    {
     "data": {
      "image/png": "[encoded data removed]",
      "text/plain": [
       "<Figure size 432x288 with 1 Axes>"
      ]
     },
     "metadata": {},
     "output_type": "display_data"
    }
   ],
   "source": [
    "%matplotlib inline\n",
    "plt.imshow(binary)"
   ]
  },
  {
   "cell_type": "markdown",
   "metadata": {},
   "source": [
    "* create structing element"
   ]
  },
  {
   "cell_type": "code",
   "execution_count": 8,
   "metadata": {},
   "outputs": [],
   "source": [
    "#sturcturing element\n",
    "struct_r=[-2, -2, -2, -1, -1, -1, -1, -1, 0, 0, 0, 0, 0, 1, 1, 1, 1, 1, 2, 2, 2]\n",
    "struct_c=[-1, 0, 1, -2, -1, 0, 1, 2, -2, -1, 0, 1, 2, -2, -1, 0, 1, 2, -1, 0, 1]"
   ]
  },
  {
   "cell_type": "markdown",
   "metadata": {},
   "source": [
    "#### Binary Dilation"
   ]
  },
  {
   "cell_type": "code",
   "execution_count": 11,
   "metadata": {},
   "outputs": [],
   "source": [
    "dila=bin_pos.copy()\n",
    "dilation=np.zeros((512, 512, 3))\n",
    "\n",
    "for i in range(dila.shape[0]): \n",
    "    for j in range(dila.shape[1]):\n",
    "        if dila[i][j]==1:\n",
    "            for r in range(len(struct_r)):\n",
    "                if (0<=i+struct_r[r]<=511) and (0<=j+struct_c[r]<=511):\n",
    "                    dilation[i+struct_r[r]][j+struct_c[r]]=255"
   ]
  },
  {
   "cell_type": "code",
   "execution_count": 30,
   "metadata": {},
   "outputs": [],
   "source": [
    "def binary_dilation(position, stru_ele_r, stru_ele_c):\n",
    "    pos=position.copy()\n",
    "    A=np.zeros((512, 512, 3))\n",
    "    \n",
    "    for i in range(pos.shape[0]): \n",
    "        for j in range(pos.shape[1]):\n",
    "            if pos[i][j]==1:\n",
    "                for r in range(len(stru_ele_r)):\n",
    "                    if (0<=i+stru_ele_r[r]<=511) and (0<=j+stru_ele_c[r]<=511):\n",
    "                        A[i+stru_ele_r[r]][j+stru_ele_c[r]]=255\n",
    "                        \n",
    "    return A"
   ]
  },
  {
   "cell_type": "code",
   "execution_count": 31,
   "metadata": {},
   "outputs": [],
   "source": [
    "dilation_new=binary_dilation(bin_pos,struct_r,struct_c)"
   ]
  },
  {
   "cell_type": "code",
   "execution_count": 32,
   "metadata": {},
   "outputs": [
    {
     "name": "stderr",
     "output_type": "stream",
     "text": [
      "Clipping input data to the valid range for imshow with RGB data ([0..1] for floats or [0..255] for integers).\n"
     ]
    },
    {
     "data": {
      "text/plain": [
       "<matplotlib.image.AxesImage at 0x15e204bb978>"
      ]
     },
     "execution_count": 32,
     "metadata": {},
     "output_type": "execute_result"
    },
    {
     "data": {
      "image/png": "[encoded data removed]",
      "text/plain": [
       "<Figure size 432x288 with 1 Axes>"
      ]
     },
     "metadata": {},
     "output_type": "display_data"
    }
   ],
   "source": [
    "%matplotlib inline\n",
    "plt.imshow(dilation_new)"
   ]
  },
  {
   "cell_type": "code",
   "execution_count": 16,
   "metadata": {},
   "outputs": [],
   "source": [
    "A_left=np.zeros((512, 512, 3))\n",
    "\n",
    "for i in range(1,511): #ignore when index =0 or 512, to prevent index out of range error\n",
    "    for j in range(1,511):\n",
    "        if A[i][j]==1:\n",
    "            if A[i-1][j]==1 and A[i][j-1]==1 and A[i][j+1]==1 and A[i+1][j]==1:\n",
    "                A_left[i][j]=255"
   ]
  },
  {
   "cell_type": "markdown",
   "metadata": {},
   "source": [
    "#### Binary Erosion"
   ]
  },
  {
   "cell_type": "code",
   "execution_count": 23,
   "metadata": {},
   "outputs": [],
   "source": [
    "#copy bin_pos\n",
    "ero=bin_pos.copy()\n",
    "erosion=np.zeros((512, 512, 3))\n",
    "rm_flag=0;  #flag to identify whether remove the point\n",
    "\n",
    "\n",
    "for i in range(ero.shape[0]): \n",
    "    for j in range(ero.shape[1]):\n",
    "        if ero[i][j]==1:\n",
    "            for r in range(len(struct_r)):\n",
    "                if (0<=i+struct_r[r]<=511) and (0<=j+struct_c[r]<=511) and (ero[i+struct_r[r]][j+struct_c[r]]!=1):\n",
    "                    rm_flag=1\n",
    "            if rm_flag==0:\n",
    "                erosion[i][j]=255\n",
    "            rm_flag=0"
   ]
  },
  {
   "cell_type": "code",
   "execution_count": 34,
   "metadata": {},
   "outputs": [],
   "source": [
    "def binary_erosion(position, stru_ele_r, stru_ele_c):\n",
    "    pos=position.copy()\n",
    "    A=np.zeros((512, 512, 3))\n",
    "    rm_flag=0;  #flag to identify whether remove the point\n",
    "\n",
    "\n",
    "    for i in range(pos.shape[0]): \n",
    "        for j in range(pos.shape[1]):\n",
    "            if pos[i][j]==1:\n",
    "                for r in range(len(stru_ele_r)):\n",
    "                    if (0<=i+stru_ele_r[r]<=511) and (0<=j+stru_ele_c[r]<=511) and (ero[i+stru_ele_r[r]][j+stru_ele_c[r]]!=1):\n",
    "                        rm_flag=1\n",
    "                if rm_flag==0:\n",
    "                    A[i][j]=255\n",
    "                rm_flag=0\n",
    "                \n",
    "    return A"
   ]
  },
  {
   "cell_type": "code",
   "execution_count": 35,
   "metadata": {},
   "outputs": [],
   "source": [
    "erosion_new=binary_erosion(bin_pos,struct_r,struct_c)"
   ]
  },
  {
   "cell_type": "code",
   "execution_count": 36,
   "metadata": {},
   "outputs": [
    {
     "name": "stderr",
     "output_type": "stream",
     "text": [
      "Clipping input data to the valid range for imshow with RGB data ([0..1] for floats or [0..255] for integers).\n"
     ]
    },
    {
     "data": {
      "text/plain": [
       "<matplotlib.image.AxesImage at 0x15e2056ca90>"
      ]
     },
     "execution_count": 36,
     "metadata": {},
     "output_type": "execute_result"
    },
    {
     "data": {
      "image/png": "[encoded data removed]",
      "text/plain": [
       "<Figure size 432x288 with 1 Axes>"
      ]
     },
     "metadata": {},
     "output_type": "display_data"
    }
   ],
   "source": [
    "%matplotlib inline\n",
    "plt.imshow(erosion_new)"
   ]
  },
  {
   "cell_type": "markdown",
   "metadata": {},
   "source": [
    "#### hit-and-miss transform"
   ]
  },
  {
   "cell_type": "markdown",
   "metadata": {},
   "source": [
    "* construct structuring element J and K (L shape)"
   ]
  },
  {
   "cell_type": "code",
   "execution_count": 37,
   "metadata": {},
   "outputs": [],
   "source": [
    "J_r=[0, 0, 1]\n",
    "J_c=[-1, 0, 0]\n",
    "\n",
    "K_r=[-1, -1, 0]\n",
    "K_c=[0, 1, 1]"
   ]
  },
  {
   "cell_type": "code",
   "execution_count": 47,
   "metadata": {},
   "outputs": [],
   "source": [
    "#complement \n",
    "bin_pos_c=np.zeros((512, 512)) \n",
    "\n",
    "for i in range(bin_pos.shape[0]):\n",
    "    for j in range(bin_pos.shape[1]):\n",
    "        if bin_pos[i,j]==0:\n",
    "            bin_pos_c[i,j]=1"
   ]
  },
  {
   "cell_type": "code",
   "execution_count": 39,
   "metadata": {},
   "outputs": [],
   "source": [
    "part1=binary_erosion(bin_pos,J_r,J_c)\n",
    "part2=binary_erosion(bin_pos_c,K_r,K_c)"
   ]
  },
  {
   "cell_type": "code",
   "execution_count": 49,
   "metadata": {},
   "outputs": [],
   "source": [
    "#取part1和part2的交集\n",
    "hit_and_miss=np.zeros((512, 512, 3))\n",
    "\n",
    "for i in range(part1.shape[0]): \n",
    "    for j in range(part1.shape[1]):\n",
    "        if (part1[i][j][1]==part2[i][j][1]) and (part1[i][j][1]==255) and (part2[i][j][1]==255):\n",
    "            hit_and_miss[i][j]=255"
   ]
  },
  {
   "cell_type": "code",
   "execution_count": 50,
   "metadata": {},
   "outputs": [
    {
     "data": {
      "text/plain": [
       "<matplotlib.image.AxesImage at 0x15e21e06f60>"
      ]
     },
     "execution_count": 50,
     "metadata": {},
     "output_type": "execute_result"
    },
    {
     "data": {
      "image/png": "[encoded data removed]",
      "text/plain": [
       "<Figure size 432x288 with 1 Axes>"
      ]
     },
     "metadata": {},
     "output_type": "display_data"
    }
   ],
   "source": [
    "%matplotlib inline\n",
    "plt.imshow(hit_and_miss)"
   ]
  },
  {
   "cell_type": "markdown",
   "metadata": {},
   "source": [
    "#### opening"
   ]
  },
  {
   "cell_type": "code",
   "execution_count": 52,
   "metadata": {},
   "outputs": [],
   "source": [
    "open1=binary_erosion(bin_pos,struct_r,struct_c)\n",
    "\n",
    "open1_pos=np.zeros((512, 512))  \n",
    "for i in range(open1.shape[0]):\n",
    "    for j in range(open1.shape[1]):\n",
    "        if open1[i,j,1]>=128:\n",
    "            open1_pos[i,j]=1\n",
    "            \n",
    "opening=binary_dilation(open1_pos,struct_r,struct_c)"
   ]
  },
  {
   "cell_type": "code",
   "execution_count": 53,
   "metadata": {},
   "outputs": [
    {
     "name": "stderr",
     "output_type": "stream",
     "text": [
      "Clipping input data to the valid range for imshow with RGB data ([0..1] for floats or [0..255] for integers).\n"
     ]
    },
    {
     "data": {
      "text/plain": [
       "<matplotlib.image.AxesImage at 0x15e21e6d710>"
      ]
     },
     "execution_count": 53,
     "metadata": {},
     "output_type": "execute_result"
    },
    {
     "data": {
      "image/png": "[encoded data removed]",
      "text/plain": [
       "<Figure size 432x288 with 1 Axes>"
      ]
     },
     "metadata": {},
     "output_type": "display_data"
    }
   ],
   "source": [
    "%matplotlib inline\n",
    "plt.imshow(opening)"
   ]
  },
  {
   "cell_type": "markdown",
   "metadata": {},
   "source": [
    "#### closing"
   ]
  },
  {
   "cell_type": "code",
   "execution_count": 54,
   "metadata": {},
   "outputs": [],
   "source": [
    "close1=binary_dilation(bin_pos,struct_r,struct_c)\n",
    "\n",
    "close1_pos=np.zeros((512, 512))  \n",
    "for i in range(close1.shape[0]):\n",
    "    for j in range(close1.shape[1]):\n",
    "        if close1[i,j,1]>=128:\n",
    "            close1_pos[i,j]=1\n",
    "            \n",
    "closing=binary_erosion(close1_pos,struct_r,struct_c)"
   ]
  },
  {
   "cell_type": "code",
   "execution_count": 55,
   "metadata": {},
   "outputs": [
    {
     "name": "stderr",
     "output_type": "stream",
     "text": [
      "Clipping input data to the valid range for imshow with RGB data ([0..1] for floats or [0..255] for integers).\n"
     ]
    },
    {
     "data": {
      "text/plain": [
       "<matplotlib.image.AxesImage at 0x15e203b46d8>"
      ]
     },
     "execution_count": 55,
     "metadata": {},
     "output_type": "execute_result"
    },
    {
     "data": {
      "image/png": "[encoded data removed]",
      "text/plain": [
       "<Figure size 432x288 with 1 Axes>"
      ]
     },
     "metadata": {},
     "output_type": "display_data"
    }
   ],
   "source": [
    "%matplotlib inline\n",
    "plt.imshow(closing)"
   ]
  },
  {
   "cell_type": "code",
   "execution_count": null,
   "metadata": {},
   "outputs": [],
   "source": []
  }
 ],
 "metadata": {
  "kernelspec": {
   "display_name": "Python 3",
   "language": "python",
   "name": "python3"
  },
  "language_info": {
   "codemirror_mode": {
    "name": "ipython",
    "version": 3
   },
   "file_extension": ".py",
   "mimetype": "text/x-python",
   "name": "python",
   "nbconvert_exporter": "python",
   "pygments_lexer": "ipython3",
   "version": "3.6.5"
  }
 },
 "nbformat": 4,
 "nbformat_minor": 2
}
