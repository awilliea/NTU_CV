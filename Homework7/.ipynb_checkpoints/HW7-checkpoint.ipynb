{
 "cells": [
  {
   "cell_type": "code",
   "execution_count": 1,
   "metadata": {},
   "outputs": [],
   "source": [
    "# origin image\n",
    "import numpy as np\n",
    "from PIL import Image\n",
    "img = Image.open('lena.bmp')\n",
    "img_array = np.array(img)\n",
    "Image.fromarray(img_array)\n",
    "Image.fromarray(img_array).save('lena.jpg')"
   ]
  },
  {
   "cell_type": "code",
   "execution_count": 2,
   "metadata": {},
   "outputs": [],
   "source": [
    "# 用來顯示圖片的函數\n",
    "from IPython.display import display\n",
    "def show(img_array):\n",
    "    display(Image.fromarray(img_array))"
   ]
  },
  {
   "cell_type": "code",
   "execution_count": 3,
   "metadata": {},
   "outputs": [],
   "source": [
    "img_b_array = np.uint8(np.copy(img_array)>=128)*255\n",
    "Image.fromarray(img_b_array).save('lena_b.jpg')"
   ]
  },
  {
   "cell_type": "code",
   "execution_count": 4,
   "metadata": {},
   "outputs": [],
   "source": [
    "def down_sample(img_array,row,col):\n",
    "    length = img_array.shape[0] \n",
    "    img_d_array = np.zeros((int(length/row),int(length/col)))\n",
    "    for i in range(0,length,row):\n",
    "        for j in range(0,length,col):\n",
    "            img_d_array[int(i/row)][int(j/col)] = img_array[i][j]\n",
    "    return img_d_array"
   ]
  },
  {
   "cell_type": "code",
   "execution_count": 5,
   "metadata": {},
   "outputs": [],
   "source": [
    "img_d_array = np.uint8(down_sample(img_b_array,8,8))"
   ]
  },
  {
   "cell_type": "code",
   "execution_count": 30,
   "metadata": {},
   "outputs": [],
   "source": [
    "def h(b,c,d,e):\n",
    "    if(b != c):\n",
    "        return 's'\n",
    "    elif(b == c and (d!=b or e!= c)):\n",
    "        return 'q'\n",
    "    else:\n",
    "        return 'r'\n",
    "    \n",
    "def h_s(b,c,d,e):\n",
    "    if(b == c and (b!=d or b!=e)):\n",
    "        return 1\n",
    "    else:\n",
    "        return 0"
   ]
  },
  {
   "cell_type": "code",
   "execution_count": 31,
   "metadata": {},
   "outputs": [],
   "source": [
    "def Yokoi(img_array):\n",
    "    length = img_array.shape[0]\n",
    "    img_temp = np.zeros((length+2,length+2))\n",
    "    img_temp[1:length+1,1:length+1] += img_array\n",
    "    \n",
    "    img_yok = np.zeros((length,length))\n",
    "    dic = {'q':0,'r':0,'s':0}\n",
    "    \n",
    "    for i in range(1,length+1,1):\n",
    "        for j in range(1,length+1,1):\n",
    "            if(img_temp[i][j] != 0):\n",
    "                dic[h(img_temp[i][j],img_temp[i+1][j],img_temp[i+1][j-1],img_temp[i][j-1])] += 1\n",
    "                dic[h(img_temp[i][j],img_temp[i][j-1],img_temp[i-1][j-1],img_temp[i-1][j])] += 1\n",
    "                dic[h(img_temp[i][j],img_temp[i-1][j],img_temp[i-1][j+1],img_temp[i][j+1])] += 1\n",
    "                dic[h(img_temp[i][j],img_temp[i][j+1],img_temp[i+1][j+1],img_temp[i+1][j])] += 1\n",
    "\n",
    "                if(dic['r'] == 4):\n",
    "                    img_yok[i-1][j-1] = 5\n",
    "                else:\n",
    "                    img_yok[i-1][j-1] = dic['q']\n",
    "\n",
    "                for key in dic.keys():\n",
    "                    dic[key] = 0\n",
    "    return img_yok"
   ]
  },
  {
   "cell_type": "code",
   "execution_count": 32,
   "metadata": {},
   "outputs": [],
   "source": [
    "# 1:marked 0: others\n",
    "def is_marked(img_array):\n",
    "    length = img_array.shape[0]\n",
    "    img_temp = np.zeros((length+2,length+2))\n",
    "    img_temp[1:length+1,1:length+1] += img_array\n",
    "    \n",
    "    img_marked = np.zeros((length,length))\n",
    "    for i in range(1,length+1,1):\n",
    "        for j in range(1,length+1,1):\n",
    "            if(img_temp[i][j] == 1):\n",
    "                if(img_temp[i][j+1] == 1 or img_temp[i][j-1] == 1 or img_temp[i+1][j] == 1 or img_temp[i-1][j] == 1):\n",
    "                    img_marked[i-1][j-1] = 1            \n",
    "    return img_marked"
   ]
  },
  {
   "cell_type": "code",
   "execution_count": 33,
   "metadata": {},
   "outputs": [],
   "source": [
    "# 1:shrinkable 0:stay origin\n",
    "def is_shrinked(img_array,i,j):\n",
    "    x0 = img_array[i][j]\n",
    "    x1 = img_array[i][j+1]\n",
    "    x2 = img_array[i-1][j]\n",
    "    x3 = img_array[i][j-1]\n",
    "    x4 = img_array[i+1][j]\n",
    "    x5 = img_array[i+1][j+1]\n",
    "    x6 = img_array[i-1][j+1]\n",
    "    x7 = img_array[i-1][j-1]\n",
    "    x8 = img_array[i+1][j-1]\n",
    "    \n",
    "    count = 0\n",
    "    count += (h_s(x0,x1,x6,x2)+h_s(x0,x2,x7,x3)+h_s(x0,x3,x8,x4)+h_s(x0,x4,x5,x1))\n",
    "    if(count == 1):\n",
    "        return 1\n",
    "    else:\n",
    "        return 0"
   ]
  },
  {
   "cell_type": "code",
   "execution_count": 34,
   "metadata": {},
   "outputs": [],
   "source": [
    "def thin(img_array):\n",
    "    img_yok = Yokoi(img_array)\n",
    "    img_marked = is_marked(img_yok)\n",
    "    \n",
    "    length = img_array.shape[0]\n",
    "    img_temp = np.zeros((length+2,length+2))\n",
    "    img_temp[1:length+1,1:length+1] += img_array\n",
    "    img_thin = np.copy(img_array)\n",
    "    \n",
    "    count = 0\n",
    "    for i in range(1,length+1,1):\n",
    "        for j in range(1,length+1,1):\n",
    "            if(img_temp[i][j] != 0):\n",
    "                s = is_shrinked(img_temp,i,j)\n",
    "                if(s == 1 and img_marked[i-1][j-1] == 1):\n",
    "                    img_temp[i][j] = 0\n",
    "                    img_thin[i-1][j-1] = 0\n",
    "    return img_thin\n",
    "\n",
    "def thin_iter(img_array):\n",
    "    img_thin = thin(img_array)\n",
    "    img_temp = np.copy(img_array)\n",
    "    \n",
    "    while(np.sum(img_temp!=img_thin)>0):\n",
    "        img_temp = np.copy(img_thin)\n",
    "        img_thin = thin(img_thin)\n",
    "    return img_thin"
   ]
  },
  {
   "cell_type": "code",
   "execution_count": 35,
   "metadata": {},
   "outputs": [],
   "source": [
    "# by yokoi\n",
    "img_thin = np.uint8(thin_iter(img_d_array))"
   ]
  },
  {
   "cell_type": "code",
   "execution_count": 36,
   "metadata": {},
   "outputs": [
    {
     "data": {
      "image/png": "[encoded data removed]",
      "text/plain": [
       "<PIL.Image.Image image mode=L size=64x64 at 0x10FD65668>"
      ]
     },
     "metadata": {},
     "output_type": "display_data"
    }
   ],
   "source": [
    "Image.fromarray(img_thin).save('lena_thin.jpg')\n",
    "show(img_thin)"
   ]
  },
  {
   "cell_type": "code",
   "execution_count": 185,
   "metadata": {},
   "outputs": [],
   "source": [
    "# by shrink operator\n",
    "img_thin = thin_iter(img_d_array)"
   ]
  },
  {
   "cell_type": "code",
   "execution_count": 186,
   "metadata": {},
   "outputs": [
    {
     "data": {
      "image/png": "[encoded data removed]",
      "text/plain": [
       "<PIL.Image.Image image mode=L size=64x64 at 0x1160E0BE0>"
      ]
     },
     "metadata": {},
     "output_type": "display_data"
    }
   ],
   "source": [
    "show(np.uint8(img_thin))"
   ]
  },
  {
   "cell_type": "code",
   "execution_count": null,
   "metadata": {},
   "outputs": [],
   "source": [
    "img_thin_8 = thin_iter_8(img_d_array)"
   ]
  },
  {
   "cell_type": "code",
   "execution_count": 150,
   "metadata": {},
   "outputs": [
    {
     "data": {
      "image/png": "[encoded data removed]",
      "text/plain": [
       "<PIL.Image.Image image mode=L size=64x64 at 0x116103198>"
      ]
     },
     "metadata": {},
     "output_type": "display_data"
    }
   ],
   "source": [
    "show(np.uint8(img_thin_8))"
   ]
  },
  {
   "cell_type": "code",
   "execution_count": 87,
   "metadata": {},
   "outputs": [
    {
     "data": {
      "text/plain": [
       "9423"
      ]
     },
     "execution_count": 87,
     "metadata": {},
     "output_type": "execute_result"
    }
   ],
   "source": [
    "np.sum(img_b_array != img_thin)"
   ]
  },
  {
   "cell_type": "code",
   "execution_count": 119,
   "metadata": {},
   "outputs": [
    {
     "data": {
      "text/plain": [
       "array([[0, 1, 1],\n",
       "       [1, 1, 1],\n",
       "       [1, 1, 1]])"
      ]
     },
     "execution_count": 119,
     "metadata": {},
     "output_type": "execute_result"
    }
   ],
   "source": [
    "aa = np.array([[0,1,1],[1,1,1],[1,1,1]])\n",
    "aa"
   ]
  },
  {
   "cell_type": "code",
   "execution_count": 120,
   "metadata": {},
   "outputs": [
    {
     "data": {
      "text/plain": [
       "array([[ 0., -1., -1.],\n",
       "       [-1.,  1., -1.],\n",
       "       [-1., -1., -1.]])"
      ]
     },
     "execution_count": 120,
     "metadata": {},
     "output_type": "execute_result"
    }
   ],
   "source": [
    "bb = is_interior(aa)\n",
    "bb"
   ]
  },
  {
   "cell_type": "code",
   "execution_count": 121,
   "metadata": {},
   "outputs": [
    {
     "data": {
      "text/plain": [
       "array([[0., 1., 0.],\n",
       "       [1., 0., 1.],\n",
       "       [0., 1., 0.]])"
      ]
     },
     "execution_count": 121,
     "metadata": {},
     "output_type": "execute_result"
    }
   ],
   "source": [
    "cc = is_marked(bb)\n",
    "cc"
   ]
  },
  {
   "cell_type": "code",
   "execution_count": 64,
   "metadata": {},
   "outputs": [
    {
     "data": {
      "text/plain": [
       "1"
      ]
     },
     "execution_count": 64,
     "metadata": {},
     "output_type": "execute_result"
    }
   ],
   "source": [
    "is_shrinked(aa,1,0)"
   ]
  },
  {
   "cell_type": "code",
   "execution_count": 123,
   "metadata": {},
   "outputs": [
    {
     "data": {
      "text/plain": [
       "array([[ True, False, False],\n",
       "       [False,  True, False],\n",
       "       [False, False, False]])"
      ]
     },
     "execution_count": 123,
     "metadata": {},
     "output_type": "execute_result"
    }
   ],
   "source": [
    "bb==aa"
   ]
  },
  {
   "cell_type": "code",
   "execution_count": null,
   "metadata": {},
   "outputs": [],
   "source": []
  }
 ],
 "metadata": {
  "kernelspec": {
   "display_name": "Python 3",
   "language": "python",
   "name": "python3"
  },
  "language_info": {
   "codemirror_mode": {
    "name": "ipython",
    "version": 3
   },
   "file_extension": ".py",
   "mimetype": "text/x-python",
   "name": "python",
   "nbconvert_exporter": "python",
   "pygments_lexer": "ipython3",
   "version": "3.6.5"
  }
 },
 "nbformat": 4,
 "nbformat_minor": 2
}
