{
 "cells": [
  {
   "cell_type": "code",
   "execution_count": 2,
   "metadata": {},
   "outputs": [],
   "source": [
    "# origin image\n",
    "import numpy as np\n",
    "from PIL import Image\n",
    "img = Image.open('lena.bmp')\n",
    "img_array = np.array(img)\n",
    "Image.fromarray(img_array)\n",
    "Image.fromarray(img_array).save('lena.jpg')\n",
    "\n",
    "# 用來顯示圖片的函數\n",
    "from IPython.display import display\n",
    "def show(img_array):\n",
    "    display(Image.fromarray(img_array))"
   ]
  },
  {
   "cell_type": "code",
   "execution_count": 3,
   "metadata": {},
   "outputs": [],
   "source": [
    "def convolution(A,B):\n",
    "    value = 0\n",
    "    length = A.shape[0]\n",
    "    assert A.shape == B.shape\n",
    "    for i in range(length):\n",
    "        for j in range(length):\n",
    "            value += (A[i][j]*B[length-i-1][length-j-1])\n",
    "    return value"
   ]
  },
  {
   "cell_type": "code",
   "execution_count": 4,
   "metadata": {},
   "outputs": [],
   "source": [
    "def get_neighbors(img_array,r,c):\n",
    "    length = img_array.shape[0]\n",
    "    neighbors = []\n",
    "    for i in [-1,0,1]:\n",
    "        for j in [-1,0,1]:\n",
    "            if(r+i >= 0 and r+i < length and c+j >= 0 and c+j < length and (i != 0 and j != 0)):\n",
    "                neighbors.append(img_array[r+i][c+j])\n",
    "    return neighbors"
   ]
  },
  {
   "cell_type": "code",
   "execution_count": 5,
   "metadata": {},
   "outputs": [],
   "source": [
    "def zero_cross(img_array,threshold):\n",
    "    length = img_array.shape[0]\n",
    "    img_new = np.zeros((length,length))+255\n",
    "    for i in range(length):\n",
    "        for j in range(length):\n",
    "            neighbors = get_neighbors(img_array,i,j)\n",
    "            if((img_array[i][j] > threshold and min(neighbors)<-threshold) or \n",
    "               (img_array[i][j]<-threshold and max(neighbors)>threshold)):\n",
    "                img_new[i][j] = 0\n",
    "    return img_new\n",
    "                "
   ]
  },
  {
   "cell_type": "code",
   "execution_count": 6,
   "metadata": {},
   "outputs": [],
   "source": [
    "def conv_z(A,kernel,threshold):\n",
    "    length = A.shape[0]\n",
    "    kernel_len = kernel.shape[0]\n",
    "    img_conv = np.zeros((length-kernel_len+1,length-kernel_len+1))\n",
    "    \n",
    "    for i in range(img_conv.shape[0]):\n",
    "        for j in range(img_conv.shape[1]):\n",
    "            img_conv[i][j] = convolution(A[i:i+kernel_len,j:j+kernel_len],kernel)\n",
    "    return np.uint8(zero_cross(img_conv,threshold))"
   ]
  },
  {
   "cell_type": "code",
   "execution_count": 7,
   "metadata": {},
   "outputs": [],
   "source": [
    "def conv(A,kernel,threshold):\n",
    "    length = A.shape[0]\n",
    "    kernel_len = kernel.shape[0]\n",
    "    img_conv = np.zeros((length-kernel_len+1,length-kernel_len+1))\n",
    "    \n",
    "    for i in range(img_conv.shape[0]):\n",
    "        for j in range(img_conv.shape[1]):\n",
    "            img_conv[i][j] = convolution(A[i:i+kernel_len,j:j+kernel_len],kernel)\n",
    "    return np.uint8((img_conv<threshold)*255)"
   ]
  },
  {
   "cell_type": "code",
   "execution_count": 8,
   "metadata": {},
   "outputs": [],
   "source": [
    "def conv_(A,kernel,threshold):\n",
    "    length = A.shape[0]\n",
    "    kernel_len = kernel.shape[0]\n",
    "    img_conv = np.zeros((length-kernel_len+1,length-kernel_len+1))\n",
    "    \n",
    "    for i in range(img_conv.shape[0]):\n",
    "        for j in range(img_conv.shape[1]):\n",
    "            img_conv[i][j] = convolution(A[i:i+kernel_len,j:j+kernel_len],kernel)\n",
    "    return np.uint8((img_conv>threshold)*255)"
   ]
  },
  {
   "cell_type": "code",
   "execution_count": 9,
   "metadata": {},
   "outputs": [],
   "source": [
    "kernel_l1 = np.array([[0,1,0],[1,-4,1],[0,1,0]])\n",
    "kernel_l2 = np.array([[1,1,1],[1,-8,1],[1,1,1]])/3\n",
    "kernel_minvar = np.array([[2,-1,2],[-1,-4,-1],[2,-1,2]])/3\n",
    "kernel_gau = np.array([\n",
    "            [0, 0, 0, -1, -1, -2, -1, -1, 0, 0, 0],\n",
    "            [0, 0, -2, -4, -8, -9, -8, -4, -2, 0, 0],\n",
    "            [0, -2, -7, -15, -22, -23, -22, -15, -7, -2, 0],\n",
    "            [-1, -4, -15, -24, -14, -1, -14, -24, -15, -4, -1],\n",
    "            [-1, -8, -22, -14, 52, 103, 52, -14, -22, -8, -1],\n",
    "            [-2, -9, -23, -1, 103, 178, 103, -1, -23, -9, -2],\n",
    "            [-1, -8, -22, -14, 52, 103, 52, -14, -22, -8, -1],\n",
    "            [-1, -4, -15, -24, -14, -1, -14, -24, -15, -4, -1],\n",
    "            [0, -2, -7, -15, -22, -23, -22, -15, -7, -2, 0],\n",
    "            [0, 0, -2, -4, -8, -9, -8, -4, -2, 0, 0],\n",
    "            [0, 0, 0, -1, -1, -2, -1, -1, 0, 0, 0]])\n",
    "kernel_diff = np.array([\n",
    "            [-1, -3, -4, -6, -7, -8, -7, -6, -4, -3, -1],\n",
    "            [-3, -5, -8, -11, -13, -13, -13, -11, -8, -5, -3],\n",
    "            [-4, -8, -12, -16, -17, -17, -17, -16, -12, -8, -4],\n",
    "            [-6, -11, -16, -16, 0, 15, 0, -16, -16, -11, -6],\n",
    "            [-7, -13, -17, 0, 85, 160, 85, 0, -17, -13, -7],\n",
    "            [-8, -13, -17, 15, 160, 283, 160, 15, -17, -13, -8],\n",
    "            [-7, -13, -17, 0, 85, 160, 85, 0, -17, -13, -7],\n",
    "            [-6, -11, -16, -16, 0, 15, 0, -16, -16, -11, -6],\n",
    "            [-4, -8, -12, -16, -17, -17, -17, -16, -12, -8, -4],\n",
    "            [-3, -5, -8, -11, -13, -13, -13, -11, -8, -5, -3],\n",
    "            [-1, -3, -4, -6, -7, -8, -7, -6, -4, -3, -1]])\n",
    "kernel_lists = [kernel_l1,kernel_l2,kernel_minvar,kernel_gau,kernel_diff]\n",
    "threshold_lists = [15,15,20,3000,1]"
   ]
  },
  {
   "cell_type": "code",
   "execution_count": 12,
   "metadata": {},
   "outputs": [],
   "source": [
    "def get_edge_picture(img_array,kernel_lists,threshold_lists):\n",
    "    names = ['l1','l2','minvar','gau','diff']\n",
    "    for i,k in enumerate(kernel_lists):\n",
    "        if(names[i]!='diff'):\n",
    "            img_temp = conv(img_array,k,threshold_lists[i])\n",
    "            Image.fromarray(img_temp).save('lena_'+names[i]+'.bmp')\n",
    "        else:\n",
    "            img_temp = conv_(img_array,k,threshold_lists[i])\n",
    "            Image.fromarray(img_temp).save('lena_'+names[i]+'.bmp')"
   ]
  },
  {
   "cell_type": "code",
   "execution_count": 40,
   "metadata": {},
   "outputs": [],
   "source": [
    "get_edge_picture(img_array,kernel_lists,threshold_lists)"
   ]
  },
  {
   "cell_type": "code",
   "execution_count": 10,
   "metadata": {},
   "outputs": [],
   "source": [
    "img_k = conv_(img_array,kernel_diff,1)\n"
   ]
  },
  {
   "cell_type": "code",
   "execution_count": 12,
   "metadata": {},
   "outputs": [],
   "source": [
    "Image.fromarray(img_k).save('lena_diff.bmp')"
   ]
  },
  {
   "cell_type": "code",
   "execution_count": null,
   "metadata": {},
   "outputs": [],
   "source": []
  }
 ],
 "metadata": {
  "kernelspec": {
   "display_name": "Python 3",
   "language": "python",
   "name": "python3"
  },
  "language_info": {
   "codemirror_mode": {
    "name": "ipython",
    "version": 3
   },
   "file_extension": ".py",
   "mimetype": "text/x-python",
   "name": "python",
   "nbconvert_exporter": "python",
   "pygments_lexer": "ipython3",
   "version": "3.6.5"
  }
 },
 "nbformat": 4,
 "nbformat_minor": 2
}
